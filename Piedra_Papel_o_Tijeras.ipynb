{
  "nbformat": 4,
  "nbformat_minor": 0,
  "metadata": {
    "colab": {
      "provenance": [],
      "authorship_tag": "ABX9TyP9GNHVUbq+Apwdo48bagMA",
      "include_colab_link": true
    },
    "kernelspec": {
      "name": "python3",
      "display_name": "Python 3"
    },
    "language_info": {
      "name": "python"
    }
  },
  "cells": [
    {
      "cell_type": "markdown",
      "metadata": {
        "id": "view-in-github",
        "colab_type": "text"
      },
      "source": [
        "<a href=\"https://colab.research.google.com/github/Soyluisflores/Clases/blob/main/Piedra_Papel_o_Tijeras.ipynb\" target=\"_parent\"><img src=\"https://colab.research.google.com/assets/colab-badge.svg\" alt=\"Open In Colab\"/></a>"
      ]
    },
    {
      "cell_type": "markdown",
      "source": [
        "Piedra Papel o Tijeras\n",
        "\n",
        "Flores Hernández Luis Alberto"
      ],
      "metadata": {
        "id": "edvjRri23EWd"
      }
    },
    {
      "cell_type": "code",
      "source": [
        "import random\n",
        "\n",
        "def jugar_piedra_papel_tijeras(opcion_usuario):\n",
        "    # Lista de opciones posibles\n",
        "    opciones = ['piedra', 'papel', 'tijeras']\n",
        "\n",
        "    # Generar la opción de forma aleatoria\n",
        "    opcion_computadora = random.choice(opciones)\n",
        "\n",
        "    # Mostrar las elecciones\n",
        "    print(f'Tu elección: {opcion_usuario}')\n",
        "    print(f'Computadora elige: {opcion_computadora}')\n",
        "\n",
        "    # Determinar el resultado del juego\n",
        "    if opcion_usuario == opcion_computadora:\n",
        "        resultado = 'Empate'\n",
        "    elif (\n",
        "        (opcion_usuario == 'piedra' and opcion_computadora == 'tijeras') or\n",
        "        (opcion_usuario == 'papel' and opcion_computadora == 'piedra') or\n",
        "        (opcion_usuario == 'tijeras' and opcion_computadora == 'papel')\n",
        "    ):\n",
        "        resultado = 'Ganaste'\n",
        "    else:\n",
        "        resultado = 'Perdiste'\n",
        "\n",
        "    return resultado\n",
        "\n",
        "# Ejemplo de uso\n",
        "opcion_usuario = input(\"Elige piedra, papel o tijeras: \").lower()\n",
        "\n",
        "# Validar la entrada del usuario\n",
        "while opcion_usuario not in ['piedra', 'papel', 'tijeras']:\n",
        "    print(\"Opción no válida. Intenta de nuevo.\")\n",
        "    opcion_usuario = input(\"Elige piedra, papel o tijeras: \").lower()\n",
        "\n",
        "# Jugar y mostrar el resultado\n",
        "resultado = jugar_piedra_papel_tijeras(opcion_usuario)\n",
        "print(resultado)"
      ],
      "metadata": {
        "id": "8dRrFWfq3C_f"
      },
      "execution_count": null,
      "outputs": []
    }
  ]
}