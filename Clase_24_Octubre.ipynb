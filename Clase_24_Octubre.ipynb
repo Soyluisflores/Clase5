{
  "nbformat": 4,
  "nbformat_minor": 0,
  "metadata": {
    "colab": {
      "provenance": [],
      "authorship_tag": "ABX9TyO0Jyp0oMgm20xMNMmtnwAX",
      "include_colab_link": true
    },
    "kernelspec": {
      "name": "python3",
      "display_name": "Python 3"
    },
    "language_info": {
      "name": "python"
    }
  },
  "cells": [
    {
      "cell_type": "markdown",
      "metadata": {
        "id": "view-in-github",
        "colab_type": "text"
      },
      "source": [
        "<a href=\"https://colab.research.google.com/github/Soyluisflores/Clases/blob/main/Clase_24_Octubre.ipynb\" target=\"_parent\"><img src=\"https://colab.research.google.com/assets/colab-badge.svg\" alt=\"Open In Colab\"/></a>"
      ]
    },
    {
      "cell_type": "markdown",
      "source": [
        "Flores Hernández Luis Alberto\n",
        "Clase 13\n",
        "Numpy"
      ],
      "metadata": {
        "id": "EbHCRJ3q5xi2"
      }
    },
    {
      "cell_type": "code",
      "source": [
        "#Arreglos\n",
        "import numpy as np\n",
        "arr = np.array([1, 2 , 3, 4, 5, 6, 7])\n",
        "\n",
        "print(arr[1:5])"
      ],
      "metadata": {
        "colab": {
          "base_uri": "https://localhost:8080/"
        },
        "id": "Zhpgf23N1n7P",
        "outputId": "24c61682-b8d0-4206-e671-882defbdcb35"
      },
      "execution_count": null,
      "outputs": [
        {
          "output_type": "stream",
          "name": "stdout",
          "text": [
            "[2 3 4 5]\n"
          ]
        }
      ]
    },
    {
      "cell_type": "code",
      "source": [
        "#Phyton toma encuenta el 0 la momento de tomar elementos\n",
        "arr = np.array([1, 8, 6, 3, 7])\n",
        "\n",
        "print(arr[0:3])"
      ],
      "metadata": {
        "colab": {
          "base_uri": "https://localhost:8080/"
        },
        "id": "hy4Uktyc1b9g",
        "outputId": "dc3056a4-617f-42bf-ebaf-a81729e855b9"
      },
      "execution_count": null,
      "outputs": [
        {
          "output_type": "stream",
          "name": "stdout",
          "text": [
            "[1 8 6]\n"
          ]
        }
      ]
    },
    {
      "cell_type": "code",
      "source": [
        "#Al imprimir -1 toma el último elemento\n",
        "arr = np.array([1, 2 , 3, 4, 5, 6, 7])\n",
        "\n",
        "print(arr[-1])"
      ],
      "metadata": {
        "colab": {
          "base_uri": "https://localhost:8080/"
        },
        "id": "4hQV2msj23HO",
        "outputId": "d8654fc1-c85a-44cd-f858-3db173b5746b"
      },
      "execution_count": null,
      "outputs": [
        {
          "output_type": "stream",
          "name": "stdout",
          "text": [
            "7\n"
          ]
        }
      ]
    },
    {
      "cell_type": "code",
      "source": [
        "#Avanzando de 2 en 2 sin tomarencuenta el elemento en la poscicion 5\n",
        "arr = np.array([1, 2 , 3, 4, 5, 6, 7])\n",
        "\n",
        "print(arr[1:5:2])"
      ],
      "metadata": {
        "colab": {
          "base_uri": "https://localhost:8080/"
        },
        "id": "I6_W3z5M3kno",
        "outputId": "cd85377c-aceb-4b14-831f-eb908ccd52c1"
      },
      "execution_count": null,
      "outputs": [
        {
          "output_type": "stream",
          "name": "stdout",
          "text": [
            "[2 4]\n"
          ]
        }
      ]
    },
    {
      "cell_type": "code",
      "source": [
        "#Avanza de 2 en 2\n",
        "arr = np.array([1, 2 , 3, 4, 5, 6, 7])\n",
        "\n",
        "print(arr[::2])"
      ],
      "metadata": {
        "colab": {
          "base_uri": "https://localhost:8080/"
        },
        "id": "TmzenAB94GGA",
        "outputId": "815b669f-f716-4a18-93ea-b6c70fb5068f"
      },
      "execution_count": null,
      "outputs": [
        {
          "output_type": "stream",
          "name": "stdout",
          "text": [
            "[1 3 5 7]\n"
          ]
        }
      ]
    },
    {
      "cell_type": "code",
      "source": [
        "#Imprime todo\n",
        "arr = np.array([1, 2 , 3, 4, 5, 6, 7])\n",
        "\n",
        "print(arr[::1])"
      ],
      "metadata": {
        "colab": {
          "base_uri": "https://localhost:8080/"
        },
        "id": "Fm47ekbK4Yco",
        "outputId": "407a4b11-ac7c-4c38-eb3a-da0572d6d981"
      },
      "execution_count": null,
      "outputs": [
        {
          "output_type": "stream",
          "name": "stdout",
          "text": [
            "[1 2 3 4 5 6 7]\n"
          ]
        }
      ]
    },
    {
      "cell_type": "code",
      "source": [
        "#Imprime todo\n",
        "arr = np.array([1, 2 , 3, 4, 5, 6, 7])\n",
        "\n",
        "print(arr[0::])"
      ],
      "metadata": {
        "colab": {
          "base_uri": "https://localhost:8080/"
        },
        "id": "_ycBE8oV4dc-",
        "outputId": "a6c2ef6d-531d-4e1e-d192-582cdf945c8a"
      },
      "execution_count": null,
      "outputs": [
        {
          "output_type": "stream",
          "name": "stdout",
          "text": [
            "[1 2 3 4 5 6 7]\n"
          ]
        }
      ]
    },
    {
      "cell_type": "code",
      "source": [
        "# Imprime lista vacia\n",
        "arr = np.array([1, 2 , 3, 4, 5, 6, 7])\n",
        "\n",
        "print(arr[:0])"
      ],
      "metadata": {
        "colab": {
          "base_uri": "https://localhost:8080/"
        },
        "id": "_vLSU-uO4vxv",
        "outputId": "af7fa68f-2da3-41ce-b85a-8833865509c0"
      },
      "execution_count": null,
      "outputs": [
        {
          "output_type": "stream",
          "name": "stdout",
          "text": [
            "[]\n"
          ]
        }
      ]
    },
    {
      "cell_type": "code",
      "source": [
        "#Escoge elementos específicos en el renglón\n",
        "arr = np.array([[1, 2 , 3, 4, 5], [6, 7, 8, 9, 10]])\n",
        "\n",
        "print(arr[1, 1:4])"
      ],
      "metadata": {
        "colab": {
          "base_uri": "https://localhost:8080/"
        },
        "id": "d1YctHGh48HY",
        "outputId": "16807011-509b-4d52-f771-911f5ad3f2a8"
      },
      "execution_count": null,
      "outputs": [
        {
          "output_type": "stream",
          "name": "stdout",
          "text": [
            "[7 8 9]\n"
          ]
        }
      ]
    },
    {
      "cell_type": "code",
      "source": [
        "#Toma todos los elementos de una renglón\n",
        "rr = np.array([[1, 2 , 3, 4, 5], [6, 7, 8, 9, 10]])\n",
        "\n",
        "print(arr[1, ::])"
      ],
      "metadata": {
        "colab": {
          "base_uri": "https://localhost:8080/"
        },
        "id": "0ppyvIrM5jSI",
        "outputId": "085abf62-a798-46fd-ebc4-b2fa90f9e0e4"
      },
      "execution_count": null,
      "outputs": [
        {
          "output_type": "stream",
          "name": "stdout",
          "text": [
            "[ 6  7  8  9 10]\n"
          ]
        }
      ]
    },
    {
      "cell_type": "code",
      "source": [
        "#Selecciona elementos específicos en la columna al escirbir \":\"\n",
        "arr = np.array([[1, 2 , 3, 4, 5], [6, 7, 8, 9, 10]])\n",
        "\n",
        "print(arr[0:2, 2])"
      ],
      "metadata": {
        "colab": {
          "base_uri": "https://localhost:8080/"
        },
        "id": "XUbMP2-p6Jyw",
        "outputId": "4865342e-beea-429e-ec2a-e03d8cbf8edd"
      },
      "execution_count": null,
      "outputs": [
        {
          "output_type": "stream",
          "name": "stdout",
          "text": [
            "[3 8]\n"
          ]
        }
      ]
    },
    {
      "cell_type": "code",
      "source": [
        "#Toma todo el renglón\n",
        "arr = np.array([[1, 2 , 3, 4, 5], [6, 7, 8, 9, 10]])\n",
        "\n",
        "print(arr[0:1])"
      ],
      "metadata": {
        "colab": {
          "base_uri": "https://localhost:8080/"
        },
        "id": "SAVdhBxl6ZDM",
        "outputId": "46abbd99-257c-45a8-ecb0-6e8442552ff0"
      },
      "execution_count": null,
      "outputs": [
        {
          "output_type": "stream",
          "name": "stdout",
          "text": [
            "[[1 2 3 4 5]]\n"
          ]
        }
      ]
    },
    {
      "cell_type": "code",
      "source": [
        "#Fija el elemento 3 del renglon y columna\n",
        "arr = np.array([[1, 2 , 3, 4, 5], [6, 7, 8, 9, 10]])\n",
        "\n",
        "print(arr[0:2,3])"
      ],
      "metadata": {
        "colab": {
          "base_uri": "https://localhost:8080/"
        },
        "id": "QbjrRY_a7yOg",
        "outputId": "725e31f4-65b2-46c1-c3fc-b935bf2003d5"
      },
      "execution_count": null,
      "outputs": [
        {
          "output_type": "stream",
          "name": "stdout",
          "text": [
            "[4 9]\n"
          ]
        }
      ]
    },
    {
      "cell_type": "code",
      "source": [
        "#Fija todos los elementos\n",
        "arr = np.array([[1, 2 , 3, 4, 5], [6, 7, 8, 9, 10]])\n",
        "\n",
        "print(arr[0:3])"
      ],
      "metadata": {
        "colab": {
          "base_uri": "https://localhost:8080/"
        },
        "id": "xRu2K7ZX7z6v",
        "outputId": "613c50b0-e771-40e6-8dc0-543b6b20b28d"
      },
      "execution_count": null,
      "outputs": [
        {
          "output_type": "stream",
          "name": "stdout",
          "text": [
            "[[ 1  2  3  4  5]\n",
            " [ 6  7  8  9 10]]\n"
          ]
        }
      ]
    },
    {
      "cell_type": "code",
      "source": [
        "#Toma elementos especificos del renglon y la columna\n",
        "arr = np.array([[1, 2 , 3, 4, 5], [6, 7, 8, 9, 10]])\n",
        "\n",
        "print(arr[0:2, 1:4])"
      ],
      "metadata": {
        "colab": {
          "base_uri": "https://localhost:8080/"
        },
        "id": "qbJuN_ME8ooz",
        "outputId": "59c0e931-1c7b-4f4f-d015-be568f841f83"
      },
      "execution_count": null,
      "outputs": [
        {
          "output_type": "stream",
          "name": "stdout",
          "text": [
            "[[2 3 4]\n",
            " [7 8 9]]\n"
          ]
        }
      ]
    },
    {
      "cell_type": "code",
      "source": [
        "#Intersecta leementos,aunque el elemento núm.5 no sea un elemento existente\n",
        "arr = np.array([[1, 2 , 3, 4, 5], [6, 7, 8, 9, 10]])\n",
        "\n",
        "print(arr[0:1, 2:5])"
      ],
      "metadata": {
        "colab": {
          "base_uri": "https://localhost:8080/"
        },
        "id": "MSvCqRMY8_8X",
        "outputId": "0f8d2b63-bd6f-45ad-a943-884900f47afb"
      },
      "execution_count": null,
      "outputs": [
        {
          "output_type": "stream",
          "name": "stdout",
          "text": [
            "[[3 4 5]]\n"
          ]
        }
      ]
    },
    {
      "cell_type": "code",
      "source": [
        "#Intersecta leementos,aunque el elemento núm.6 no sea un elemento existente\n",
        "arr = np.array([[1, 2 , 3, 4, 5], [6, 7, 8, 9, 10]])\n",
        "\n",
        "print(arr[0:1, 2:6])"
      ],
      "metadata": {
        "colab": {
          "base_uri": "https://localhost:8080/"
        },
        "id": "9C9-3csy9w14",
        "outputId": "2dca3e47-fb4e-4835-eacf-8f5aa1627e8d"
      },
      "execution_count": null,
      "outputs": [
        {
          "output_type": "stream",
          "name": "stdout",
          "text": [
            "[[3 4 5]]\n"
          ]
        }
      ]
    },
    {
      "cell_type": "code",
      "source": [
        "# Devuelve Arreglo con índices\n",
        "import numpy as np\n",
        "arr = np.array([1, 2 , 3, 4, 5, 6, 7, 8])\n",
        "\n",
        "x = np.where(arr % 2 == 0)\n",
        "print(x)"
      ],
      "metadata": {
        "colab": {
          "base_uri": "https://localhost:8080/"
        },
        "id": "YKOs4TPc9_jY",
        "outputId": "4bd71580-cc55-44eb-e314-28c82ffbbcd1"
      },
      "execution_count": 4,
      "outputs": [
        {
          "output_type": "stream",
          "name": "stdout",
          "text": [
            "(array([1, 3, 5, 7]),)\n"
          ]
        }
      ]
    },
    {
      "cell_type": "code",
      "source": [
        "#Buscar\n",
        "arr = np.array([1, 2 , 3, 4, 5, 6, 7, 8])\n",
        "\n",
        "x = np.searchsorted(arr,4)\n",
        "print(x)"
      ],
      "metadata": {
        "colab": {
          "base_uri": "https://localhost:8080/"
        },
        "id": "oPLH3Xnd-hlB",
        "outputId": "6cc764e8-d6c7-420a-9e8c-c1554cf46c64"
      },
      "execution_count": 8,
      "outputs": [
        {
          "output_type": "stream",
          "name": "stdout",
          "text": [
            "3\n"
          ]
        }
      ]
    },
    {
      "cell_type": "code",
      "source": [
        "#Filtrar\n",
        "arr = np.array([1, 2 , 3, 4, 5, 6, 7, 8])\n",
        "filter_arr = arr > 42\n",
        "newarr = arr[filter_arr]\n",
        "\n",
        "print(filter_arr)\n",
        "print(newarr)"
      ],
      "metadata": {
        "colab": {
          "base_uri": "https://localhost:8080/"
        },
        "id": "9ks8Y3O8-1Fo",
        "outputId": "befded60-4312-4550-f741-3ba790938f44"
      },
      "execution_count": null,
      "outputs": [
        {
          "output_type": "stream",
          "name": "stdout",
          "text": [
            "[False False False False False False False False]\n",
            "[]\n"
          ]
        }
      ]
    },
    {
      "cell_type": "code",
      "source": [
        "#Suma\n",
        "x=np.array([1, 2, 3])\n",
        "y=np.array([4, 5, 6])\n"
      ],
      "metadata": {
        "id": "ytfWyeNyAs5_"
      },
      "execution_count": null,
      "outputs": []
    },
    {
      "cell_type": "code",
      "source": [
        "suma =x+y\n",
        "print(f\"La suma es {suma}\")"
      ],
      "metadata": {
        "colab": {
          "base_uri": "https://localhost:8080/"
        },
        "id": "dZryQETl_vxQ",
        "outputId": "ea945a36-7012-4fe7-d891-dba711484113"
      },
      "execution_count": null,
      "outputs": [
        {
          "output_type": "stream",
          "name": "stdout",
          "text": [
            "La suma es [5 7 9]\n"
          ]
        }
      ]
    },
    {
      "cell_type": "code",
      "source": [
        "#Multiplicacion\n",
        "mult=x*y\n",
        "print(f\"La multiplicacion es {mult}\")"
      ],
      "metadata": {
        "colab": {
          "base_uri": "https://localhost:8080/"
        },
        "id": "lcEL9U0IA-oZ",
        "outputId": "3db16276-f498-4c44-d558-8329c7aa2c0b"
      },
      "execution_count": null,
      "outputs": [
        {
          "output_type": "stream",
          "name": "stdout",
          "text": [
            "La multiplicacion es [ 4 10 18]\n"
          ]
        }
      ]
    },
    {
      "cell_type": "code",
      "source": [
        "#Resta\n",
        "min=x-y\n",
        "print(f\"La resta es {min}\")"
      ],
      "metadata": {
        "colab": {
          "base_uri": "https://localhost:8080/"
        },
        "id": "9OcXwVqhBhpY",
        "outputId": "acf8320a-69aa-42ff-e3c0-525a42435c2f"
      },
      "execution_count": null,
      "outputs": [
        {
          "output_type": "stream",
          "name": "stdout",
          "text": [
            "La resta es [-3 -3 -3]\n"
          ]
        }
      ]
    },
    {
      "cell_type": "code",
      "source": [
        "#Division\n",
        "div=x/y\n",
        "print(f\"La division es {div}\")"
      ],
      "metadata": {
        "colab": {
          "base_uri": "https://localhost:8080/"
        },
        "id": "kt_CN-drCEkw",
        "outputId": "75743158-804d-49ae-f925-39307bf9ae74"
      },
      "execution_count": null,
      "outputs": [
        {
          "output_type": "stream",
          "name": "stdout",
          "text": [
            "La division es [0.25 0.4  0.5 ]\n"
          ]
        }
      ]
    },
    {
      "cell_type": "code",
      "source": [
        "#Numero pi\n",
        "import math\n",
        "print(math.pi)"
      ],
      "metadata": {
        "colab": {
          "base_uri": "https://localhost:8080/"
        },
        "id": "bWK5WKiPCdbp",
        "outputId": "3f6936ca-4005-44e9-d87b-20a014b300bb"
      },
      "execution_count": null,
      "outputs": [
        {
          "output_type": "stream",
          "name": "stdout",
          "text": [
            "3.141592653589793\n"
          ]
        }
      ]
    },
    {
      "cell_type": "code",
      "source": [
        "#Calcular el seno\n",
        "angulos=np.array([0,np.pi/2,np.pi])\n",
        "seno=np.sin(angulos)\n",
        "print(f\"Los senos{seno}\")\n",
        "print(f\"De los angulos{angulos}\")"
      ],
      "metadata": {
        "colab": {
          "base_uri": "https://localhost:8080/"
        },
        "id": "_Jyqyrg3DA0f",
        "outputId": "54f1208c-8f5a-46bb-fc64-69df70655a53"
      },
      "execution_count": null,
      "outputs": [
        {
          "output_type": "stream",
          "name": "stdout",
          "text": [
            "Los senos[0.0000000e+00 1.0000000e+00 1.2246468e-16]\n",
            "De los angulos[0.         1.57079633 3.14159265]\n"
          ]
        }
      ]
    },
    {
      "cell_type": "code",
      "source": [
        "#Crear una lista de Arreglos con Range\n",
        "x=np.array(list(range(1,8)))\n",
        "print(x)"
      ],
      "metadata": {
        "colab": {
          "base_uri": "https://localhost:8080/"
        },
        "id": "0q0OC5NTEMia",
        "outputId": "64f54a60-2f2b-45b0-c5cc-3125e4cadb07"
      },
      "execution_count": null,
      "outputs": [
        {
          "output_type": "stream",
          "name": "stdout",
          "text": [
            "[1 2 3 4 5 6 7]\n"
          ]
        }
      ]
    },
    {
      "cell_type": "code",
      "source": [
        "x=np.array(list(range(1,9)))\n",
        "print(x)"
      ],
      "metadata": {
        "colab": {
          "base_uri": "https://localhost:8080/"
        },
        "id": "ZemKWRnqEcZI",
        "outputId": "7b37931c-ffb1-41b6-cd2b-3b199e9d20ce"
      },
      "execution_count": null,
      "outputs": [
        {
          "output_type": "stream",
          "name": "stdout",
          "text": [
            "[1 2 3 4 5 6 7 8]\n"
          ]
        }
      ]
    },
    {
      "cell_type": "code",
      "source": [
        "#Convertir arreglo en matriz con reshape\n",
        "matriz=x.reshape(2,4)\n",
        "matriz"
      ],
      "metadata": {
        "colab": {
          "base_uri": "https://localhost:8080/"
        },
        "id": "ZPkBBY8rEjsw",
        "outputId": "72880e03-b617-4d1e-e644-12ccdb206ed2"
      },
      "execution_count": null,
      "outputs": [
        {
          "output_type": "execute_result",
          "data": {
            "text/plain": [
              "array([[1, 2, 3, 4],\n",
              "       [5, 6, 7, 8]])"
            ]
          },
          "metadata": {},
          "execution_count": 100
        }
      ]
    },
    {
      "cell_type": "code",
      "source": [
        "x.reshape(-1,1)"
      ],
      "metadata": {
        "colab": {
          "base_uri": "https://localhost:8080/"
        },
        "id": "yP4cHX3-EsP_",
        "outputId": "2f584a47-d962-4146-c2ea-b1a732b7dbe1"
      },
      "execution_count": null,
      "outputs": [
        {
          "output_type": "execute_result",
          "data": {
            "text/plain": [
              "array([[1],\n",
              "       [2],\n",
              "       [3],\n",
              "       [4],\n",
              "       [5],\n",
              "       [6],\n",
              "       [7],\n",
              "       [8]])"
            ]
          },
          "metadata": {},
          "execution_count": 105
        }
      ]
    },
    {
      "cell_type": "code",
      "source": [
        "#Shape\n",
        "x.reshape(4,2).shape"
      ],
      "metadata": {
        "colab": {
          "base_uri": "https://localhost:8080/"
        },
        "id": "f1k_d-LvFcJZ",
        "outputId": "75f4c7f1-b446-4c75-92e0-71ebaf1ffda9"
      },
      "execution_count": null,
      "outputs": [
        {
          "output_type": "execute_result",
          "data": {
            "text/plain": [
              "(4, 2)"
            ]
          },
          "metadata": {},
          "execution_count": 104
        }
      ]
    },
    {
      "cell_type": "code",
      "source": [
        "#Obtener partes específicas de lintervalo diviendo en partes insetando elnumero de puntos\n",
        "x=np.linspace(0,1,4)\n",
        "x"
      ],
      "metadata": {
        "colab": {
          "base_uri": "https://localhost:8080/"
        },
        "id": "tZ21tS3JFmBh",
        "outputId": "45d6e9bc-505b-4bd0-8aea-1a308363254e"
      },
      "execution_count": null,
      "outputs": [
        {
          "output_type": "execute_result",
          "data": {
            "text/plain": [
              "array([0.        , 0.33333333, 0.66666667, 1.        ])"
            ]
          },
          "metadata": {},
          "execution_count": 109
        }
      ]
    },
    {
      "cell_type": "code",
      "source": [
        "x=np.linspace(0,1,2)\n",
        "x"
      ],
      "metadata": {
        "colab": {
          "base_uri": "https://localhost:8080/"
        },
        "id": "aNtyzYtTF85I",
        "outputId": "91393c68-a272-416e-dc34-f7398290e3ea"
      },
      "execution_count": null,
      "outputs": [
        {
          "output_type": "execute_result",
          "data": {
            "text/plain": [
              "array([0., 1.])"
            ]
          },
          "metadata": {},
          "execution_count": 110
        }
      ]
    },
    {
      "cell_type": "code",
      "source": [
        "#Tomar elementos Aleatorios\n",
        "np.random.uniform(0,1,6)"
      ],
      "metadata": {
        "colab": {
          "base_uri": "https://localhost:8080/"
        },
        "id": "AsorzNQbGjph",
        "outputId": "064146d2-b8d4-40cf-b12d-c3296b825892"
      },
      "execution_count": null,
      "outputs": [
        {
          "output_type": "execute_result",
          "data": {
            "text/plain": [
              "array([0.06095864, 0.6086342 , 0.76683999, 0.87010274, 0.50548608,\n",
              "       0.55582598])"
            ]
          },
          "metadata": {},
          "execution_count": 112
        }
      ]
    },
    {
      "cell_type": "code",
      "source": [
        "#Tomar numeros aleatorios enteros\n",
        "x=np.linspace(0,1,4)\n",
        "x"
      ],
      "metadata": {
        "colab": {
          "base_uri": "https://localhost:8080/"
        },
        "id": "bz-1dkDHG6dA",
        "outputId": "35a406bb-2c1b-4715-b9eb-1f25562bb9ff"
      },
      "execution_count": null,
      "outputs": [
        {
          "output_type": "execute_result",
          "data": {
            "text/plain": [
              "array([0.        , 0.33333333, 0.66666667, 1.        ])"
            ]
          },
          "metadata": {},
          "execution_count": 118
        }
      ]
    },
    {
      "cell_type": "code",
      "source": [
        "#Tomar elementos aleatorios cdefiniendo el tamaño\n",
        "x=np.random.randint(0,10,size=1)\n",
        "x"
      ],
      "metadata": {
        "colab": {
          "base_uri": "https://localhost:8080/"
        },
        "id": "LhwVUhV2HJcf",
        "outputId": "498df03b-d24a-4e89-8372-0bf140556f76"
      },
      "execution_count": null,
      "outputs": [
        {
          "output_type": "execute_result",
          "data": {
            "text/plain": [
              "array([5])"
            ]
          },
          "metadata": {},
          "execution_count": 123
        }
      ]
    },
    {
      "cell_type": "code",
      "source": [
        "#Pedir al usuario un numero del 1-10 y adivinarlo usando randint\n",
        "numero = int(input(\"Ingresa numero del 1 al 10:\"))\n",
        "numero_aleatorio= np.random.randint(1,10,size=1)\n",
        "if numero == numero_aleatorio:\n",
        "  print(f\"Correcto{numero_aleatorio}\")\n",
        "else:\n",
        "  print(f\"Incorrecto{numero_aleatorio}\")"
      ],
      "metadata": {
        "colab": {
          "base_uri": "https://localhost:8080/"
        },
        "id": "82SDIn6kIIuk",
        "outputId": "0d92e189-ba2a-4014-f187-e7913d93b921"
      },
      "execution_count": null,
      "outputs": [
        {
          "output_type": "stream",
          "name": "stdout",
          "text": [
            "Ingresa numero del 1 al 10:1\n",
            "Correcto[1]\n"
          ]
        }
      ]
    }
  ]
}