{
  "nbformat": 4,
  "nbformat_minor": 0,
  "metadata": {
    "colab": {
      "provenance": [],
      "authorship_tag": "ABX9TyO0C+0GSRfyCxlWc04jlrjV",
      "include_colab_link": true
    },
    "kernelspec": {
      "name": "python3",
      "display_name": "Python 3"
    },
    "language_info": {
      "name": "python"
    }
  },
  "cells": [
    {
      "cell_type": "markdown",
      "metadata": {
        "id": "view-in-github",
        "colab_type": "text"
      },
      "source": [
        "<a href=\"https://colab.research.google.com/github/Soyluisflores/Clases/blob/main/Dados.ipynb\" target=\"_parent\"><img src=\"https://colab.research.google.com/assets/colab-badge.svg\" alt=\"Open In Colab\"/></a>"
      ]
    },
    {
      "cell_type": "markdown",
      "source": [
        "Juego Dados\n",
        "\n",
        "Flores Hernández Luis Alberto"
      ],
      "metadata": {
        "id": "E0Gx_pv84VrT"
      }
    },
    {
      "cell_type": "code",
      "execution_count": null,
      "metadata": {
        "colab": {
          "base_uri": "https://localhost:8080/"
        },
        "id": "ochIVIlG3te-",
        "outputId": "95eb3494-06e1-4860-f44f-76f18eeaf68c"
      },
      "outputs": [
        {
          "output_type": "stream",
          "name": "stdout",
          "text": [
            "Bienvenidos a Juego de Dados\n",
            "\n",
            "Resultado del dado: 4\n",
            "Gana Miguel\n"
          ]
        }
      ],
      "source": [
        "import random\n",
        "\n",
        "def jugar_a_los_dados():\n",
        "    while True:\n",
        "        # Generar un número aleatorio entre 1 y 6\n",
        "        resultado_dado = random.randint(1, 6)\n",
        "\n",
        "        print(f'\\nResultado del dado: {resultado_dado}')\n",
        "\n",
        "        if resultado_dado == 1:\n",
        "            print(\"Vuelven a lanzar\")\n",
        "\n",
        "        elif resultado_dado == 6:\n",
        "            print(\"Empate. Vuelven a lanzar.\")\n",
        "\n",
        "        elif resultado_dado in [2, 3]:\n",
        "            print(\"Gana Iván\")\n",
        "\n",
        "        elif resultado_dado in [4, 5]:\n",
        "            print(\"Gana Miguel\")\n",
        "\n",
        "        # Preguntar si quieren jugar de nuevo\n",
        "        jugar_de_nuevo = input(\"¿Quieren jugar de nuevo? (s/n): \").lower()\n",
        "\n",
        "        if jugar_de_nuevo != 's':\n",
        "            print(\"Adiós\")\n",
        "            break\n",
        "\n",
        "            # Iniciar el juego\n",
        "print(\"Bienvenidos a Juego de Dados\")\n",
        "jugar_a_los_dados()\n",
        "\n",
        "# Iniciar el juego\n",
        "print(\"Bienvenidos a Juego de Dados\")\n",
        "jugar_a_los_dados()\n",
        "\n",
        "###FIN DEL PROGRAMA"
      ]
    }
  ]
}