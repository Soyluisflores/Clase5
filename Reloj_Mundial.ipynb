{
  "nbformat": 4,
  "nbformat_minor": 0,
  "metadata": {
    "colab": {
      "provenance": [],
      "authorship_tag": "ABX9TyP3lb0YY/RUacwguXHpprg6",
      "include_colab_link": true
    },
    "kernelspec": {
      "name": "python3",
      "display_name": "Python 3"
    },
    "language_info": {
      "name": "python"
    }
  },
  "cells": [
    {
      "cell_type": "markdown",
      "metadata": {
        "id": "view-in-github",
        "colab_type": "text"
      },
      "source": [
        "<a href=\"https://colab.research.google.com/github/Soyluisflores/Clases/blob/main/Reloj_Mundial.ipynb\" target=\"_parent\"><img src=\"https://colab.research.google.com/assets/colab-badge.svg\" alt=\"Open In Colab\"/></a>"
      ]
    },
    {
      "cell_type": "markdown",
      "source": [
        "Reloj Mundial\n",
        "\n",
        "Flores Hernández Luis Alberto"
      ],
      "metadata": {
        "id": "0z3RoSD7zMKr"
      }
    },
    {
      "cell_type": "code",
      "source": [
        "from datetime import datetime, timedelta\n",
        "\n",
        "# Función para calcular la hora en una ciudad específica\n",
        "calcular_hora_ciudad = lambda hora_mexico, diferencia_horaria: (hora_mexico + timedelta(hours=diferencia_horaria)) % 24\n",
        "\n",
        "# Diccionario con las ciudades y sus respectivas diferencias horarias\n",
        "ciudades = {\n",
        "    'Tokio': 14,\n",
        "    'Pekin': 13,\n",
        "    'Dusambé': 11,\n",
        "    'Perth': 8,\n",
        "    'Katmandu': 5.75,\n",
        "    'Vilna': 2,\n",
        "    'Freetown': 0,\n",
        "    'Rio_de_Janeiro': -2,\n",
        "    'Tegucigalpa': -7,\n",
        "    'Kinsgton': -6,\n",
        "    'Los_Angeles': -9\n",
        "}\n",
        "\n",
        "# Obtener la hora de la Ciudad de México del usuario\n",
        "hora_mexico_str = input(\"Ingresa la hora en Ciudad de México (formato HH:MM): \")\n",
        "hora_mexico = datetime.strptime(hora_mexico_str, \"%H:%M\").hour\n",
        "\n",
        "# Mostrar la hora en Ciudad de México\n",
        "print(f'Hora en Ciudad de México: {hora_mexico:02d}:00')\n",
        "\n",
        "# Calcular y mostrar la hora en cada ciudad\n",
        "for ciudad, diferencia_horaria in ciudades.items():\n",
        "    hora_ciudad = int(calcular_hora_ciudad(hora_mexico, diferencia_horaria))\n",
        "    print(f'Hora en {ciudad}: {hora_ciudad:02d}:00')\n"
      ],
      "metadata": {
        "id": "rEn8TGO112sc"
      },
      "execution_count": null,
      "outputs": []
    },
    {
      "cell_type": "code",
      "source": [],
      "metadata": {
        "id": "pJrIlykZ5JjJ"
      },
      "execution_count": null,
      "outputs": []
    }
  ]
}