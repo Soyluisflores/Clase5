{
  "nbformat": 4,
  "nbformat_minor": 0,
  "metadata": {
    "colab": {
      "provenance": [],
      "authorship_tag": "ABX9TyPwoRQ/Z4wCsOFbpcvD0YU7",
      "include_colab_link": true
    },
    "kernelspec": {
      "name": "python3",
      "display_name": "Python 3"
    },
    "language_info": {
      "name": "python"
    }
  },
  "cells": [
    {
      "cell_type": "markdown",
      "metadata": {
        "id": "view-in-github",
        "colab_type": "text"
      },
      "source": [
        "<a href=\"https://colab.research.google.com/github/Soyluisflores/Clases/blob/main/Clase_19Oct.ipynb\" target=\"_parent\"><img src=\"https://colab.research.google.com/assets/colab-badge.svg\" alt=\"Open In Colab\"/></a>"
      ]
    },
    {
      "cell_type": "markdown",
      "source": [
        "Nombre: Flores Hernández Luis Alberto\n",
        "Clase 19 de Octubre"
      ],
      "metadata": {
        "id": "TChSuUbPVxaR"
      }
    },
    {
      "cell_type": "code",
      "execution_count": null,
      "metadata": {
        "colab": {
          "base_uri": "https://localhost:8080/"
        },
        "id": "uZ4SxbxaDfQt",
        "outputId": "674a0177-4473-4298-ec44-f877f4407b56"
      },
      "outputs": [
        {
          "output_type": "stream",
          "name": "stdout",
          "text": [
            "[1 2 3 4 5]\n",
            "<class 'numpy.ndarray'>\n"
          ]
        }
      ],
      "source": [
        "#Arreglos\n",
        "import numpy as np\n",
        "\n",
        "arr =np.array([1,2,3,4,5])\n",
        "\n",
        "print(arr)\n",
        "\n",
        "print(type(arr))"
      ]
    },
    {
      "cell_type": "code",
      "source": [
        "arr1 = np.array((1, 2, 3, 4, 5))\n",
        "\n",
        "print(arr1)\n",
        "\n",
        "print(type(arr1))"
      ],
      "metadata": {
        "colab": {
          "base_uri": "https://localhost:8080/"
        },
        "id": "OFtogKJ4ExWU",
        "outputId": "5469f2fe-6ffe-4114-b5b7-1f56ca535fb7"
      },
      "execution_count": null,
      "outputs": [
        {
          "output_type": "stream",
          "name": "stdout",
          "text": [
            "[1 2 3 4 5]\n",
            "<class 'numpy.ndarray'>\n"
          ]
        }
      ]
    },
    {
      "cell_type": "code",
      "source": [
        "arr = np.array(42)\n",
        "\n",
        "print(arr)"
      ],
      "metadata": {
        "colab": {
          "base_uri": "https://localhost:8080/"
        },
        "id": "eG7ESHQoFB-6",
        "outputId": "8feee9cb-a8ce-42e3-920c-caaeac2d607d"
      },
      "execution_count": null,
      "outputs": [
        {
          "output_type": "stream",
          "name": "stdout",
          "text": [
            "42\n"
          ]
        }
      ]
    },
    {
      "cell_type": "code",
      "source": [
        "#Arreglos 2D (BIDIMENCIONALES)\n",
        "\n",
        "arr = np.array([[1, 2,3], [14, 5, 6]])\n",
        "\n",
        "print(arr)"
      ],
      "metadata": {
        "colab": {
          "base_uri": "https://localhost:8080/"
        },
        "id": "LLqxuPchFPE8",
        "outputId": "3145edd7-6652-4679-83f9-6f79f7fed4c4"
      },
      "execution_count": null,
      "outputs": [
        {
          "output_type": "stream",
          "name": "stdout",
          "text": [
            "[[ 1  2  3]\n",
            " [14  5  6]]\n"
          ]
        }
      ]
    },
    {
      "cell_type": "code",
      "source": [
        "#Arreglos 3D (Tridimencionales)\n",
        "\n",
        "arr= np.array([[[1,2,3],[4,5,6]],[[1,2,3],[4,5,6]]])\n",
        "\n",
        "print(arr)"
      ],
      "metadata": {
        "colab": {
          "base_uri": "https://localhost:8080/"
        },
        "id": "oNgW2HWjF2FL",
        "outputId": "1386aed8-26fa-424b-ac4c-ddf84e3e58d6"
      },
      "execution_count": null,
      "outputs": [
        {
          "output_type": "stream",
          "name": "stdout",
          "text": [
            "[[[1 2 3]\n",
            "  [4 5 6]]\n",
            "\n",
            " [[1 2 3]\n",
            "  [4 5 6]]]\n"
          ]
        }
      ]
    },
    {
      "cell_type": "code",
      "source": [
        "#Dimensiones y shape\n",
        "\n",
        "a = np.array(42)\n",
        "b = np.array([1, 2, 3, 4, 5])\n",
        "c = np.array([[1, 2,3], [14, 5, 6]])\n",
        "d = np.array([[[1,2,3],[4,5,6]],[[1,2,3],[4,5,6]]])\n",
        "\n",
        "print(a.ndim,a.shape)\n",
        "print(b.ndim,b.shape)\n",
        "print(c.ndim,c.shape)\n",
        "print(d.ndim,d.shape)"
      ],
      "metadata": {
        "colab": {
          "base_uri": "https://localhost:8080/"
        },
        "id": "945dC9LvGuJD",
        "outputId": "66079bf4-016c-4459-ee0e-42b1536820b0"
      },
      "execution_count": null,
      "outputs": [
        {
          "output_type": "stream",
          "name": "stdout",
          "text": [
            "0 ()\n",
            "1 (5,)\n",
            "2 (2, 3)\n",
            "3 (2, 2, 3)\n"
          ]
        }
      ]
    },
    {
      "cell_type": "code",
      "source": [
        "#Acceder a los elementos\n",
        "\n",
        "arr = np.array([[[1,2,3],[4,5,6]],[[7,8,9],[10,11,12]]])\n",
        "\n",
        "print(arr[0, 1, 2])"
      ],
      "metadata": {
        "colab": {
          "base_uri": "https://localhost:8080/"
        },
        "id": "5W92RdDDH3XE",
        "outputId": "332348ed-20bf-4e07-b0ff-7de8ce145491"
      },
      "execution_count": null,
      "outputs": [
        {
          "output_type": "stream",
          "name": "stdout",
          "text": [
            "6\n"
          ]
        }
      ]
    },
    {
      "cell_type": "code",
      "source": [
        "#suma de elementos de una matriz con numpy\n",
        "arr = np.array([[1, 1, 1], [1, 1, 1], [1,1,1]])\n",
        "\n",
        "suma_elementos=np.sum(arr)\n",
        "\n",
        "print(suma_elementos)"
      ],
      "metadata": {
        "colab": {
          "base_uri": "https://localhost:8080/"
        },
        "id": "S_pc-HhbJib0",
        "outputId": "a5459ce7-2021-4315-d002-53a984df0d9d"
      },
      "execution_count": null,
      "outputs": [
        {
          "output_type": "stream",
          "name": "stdout",
          "text": [
            "9\n"
          ]
        }
      ]
    },
    {
      "cell_type": "code",
      "source": [
        "#suma de elementos de una matriz con listas\n",
        "A=[[1, 1, 1], [1, 1, 1], [1, 1, 1]]\n",
        "\n",
        "suma=0\n",
        "for i in range(len(A)):\n",
        "  for j in range(len(A)):\n",
        "    suma=suma+A[i][j]\n",
        "print(f\"la suma es {suma}\")"
      ],
      "metadata": {
        "colab": {
          "base_uri": "https://localhost:8080/"
        },
        "id": "MV8-MWpRQqAi",
        "outputId": "834935ae-7b02-4f73-b3fb-0d64c5c25f83"
      },
      "execution_count": null,
      "outputs": [
        {
          "output_type": "stream",
          "name": "stdout",
          "text": [
            "la suma es 9\n"
          ]
        }
      ]
    },
    {
      "cell_type": "code",
      "source": [
        "#producto punto con numpy\n",
        "arr = np.array([[1, 2, 3], [4, 5, 6], [7,8,9]])\n",
        "\n",
        "PRODUCTO_ESCALAR=np.sum(arr, axis=1)\n",
        "\n",
        "print(PRODUCTO_ESCALAR)"
      ],
      "metadata": {
        "colab": {
          "base_uri": "https://localhost:8080/"
        },
        "id": "vs2AEadsRByq",
        "outputId": "c2ed579d-75d5-491a-e242-40fba5846195"
      },
      "execution_count": null,
      "outputs": [
        {
          "output_type": "stream",
          "name": "stdout",
          "text": [
            "[ 6 15 24]\n"
          ]
        }
      ]
    },
    {
      "cell_type": "code",
      "source": [
        "def ProductoPunto(a,b):\n",
        "  PP = 0,0\n",
        "  for i in range(len(a)):\n",
        "    PP= PP+a[i]*b[i]\n",
        "  return PP"
      ],
      "metadata": {
        "id": "MsqOU3-PWpOa"
      },
      "execution_count": null,
      "outputs": []
    },
    {
      "cell_type": "code",
      "source": [
        "import numpy as np\n",
        "\n",
        "arr2 = np.array([[1, 2, 3], [4, 5, 6], [7, 8, 9]])\n",
        "arr3 = np.array([[1, 1, 1], [1, 1, 1], [1, 1, 1]])\n",
        "Pp_por_reng = np.array([0, 0, 0])\n",
        "Pp_por_col = np.array([0, 0, 0])"
      ],
      "metadata": {
        "id": "lUl20tvkXN0k"
      },
      "execution_count": 5,
      "outputs": []
    },
    {
      "cell_type": "code",
      "source": [
        "import numpy as np\n",
        "\n",
        "def AgarraCol(a,col):\n",
        "    nuevo=[]\n",
        "    for i in range(len(a)):\n",
        "      nuevo.append(a[i, col])\n",
        "\n",
        "    return np.array (nuevo)\n",
        "\n",
        "matriz = np.array([[1, 2, 3], [4, 5, 6], [7, 8, 9]])\n",
        "columna = AgarraCol(matriz, 1)\n",
        "print(columna)"
      ],
      "metadata": {
        "colab": {
          "base_uri": "https://localhost:8080/"
        },
        "id": "enVCAxpcYy9j",
        "outputId": "0fecab70-debb-4e1d-c870-533ce87eb22a"
      },
      "execution_count": 21,
      "outputs": [
        {
          "output_type": "stream",
          "name": "stdout",
          "text": [
            "[2 5 8]\n"
          ]
        }
      ]
    }
  ]
}