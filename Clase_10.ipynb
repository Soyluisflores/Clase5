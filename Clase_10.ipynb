{
  "nbformat": 4,
  "nbformat_minor": 0,
  "metadata": {
    "colab": {
      "provenance": [],
      "authorship_tag": "ABX9TyPeC6IPWmNXrQXiyOi0XrEy",
      "include_colab_link": true
    },
    "kernelspec": {
      "name": "python3",
      "display_name": "Python 3"
    },
    "language_info": {
      "name": "python"
    }
  },
  "cells": [
    {
      "cell_type": "markdown",
      "metadata": {
        "id": "view-in-github",
        "colab_type": "text"
      },
      "source": [
        "<a href=\"https://colab.research.google.com/github/Soyluisflores/Clase5/blob/main/Clase_10.ipynb\" target=\"_parent\"><img src=\"https://colab.research.google.com/assets/colab-badge.svg\" alt=\"Open In Colab\"/></a>"
      ]
    },
    {
      "cell_type": "markdown",
      "source": [
        "Clase 10\n",
        "Flores Hernández Luis Alberto"
      ],
      "metadata": {
        "id": "Ush8RFMFhewk"
      }
    },
    {
      "cell_type": "code",
      "source": [
        "thisdict = {\n",
        "    \"brand \": \"Ford\",\n",
        "    \"model\": \"Mustang\",\n",
        "    \"year\" : 2077,\n",
        "    \"year\" : 1999\n",
        "}\n",
        "print(thisdict)"
      ],
      "metadata": {
        "colab": {
          "base_uri": "https://localhost:8080/"
        },
        "id": "_12p7-qlv20r",
        "outputId": "8388ce1c-5e86-4a7e-a9e6-f83509f930cc"
      },
      "execution_count": null,
      "outputs": [
        {
          "output_type": "stream",
          "name": "stdout",
          "text": [
            "{'brand ': 'Ford', 'model': 'Mustang', 'year': 1999}\n"
          ]
        }
      ]
    },
    {
      "cell_type": "code",
      "source": [
        "diccionario = {\"phyton\": 2.7, \"zope\": 2.13, \"plone\": 5.7}\n",
        "\n",
        "nuevo_diccionario = {}\n",
        "for clave in diccionario.keys():\n",
        "  nuevo_diccionario[clave] = diccionario[clave]\n",
        "\n",
        "print(nuevo_diccionario)"
      ],
      "metadata": {
        "colab": {
          "base_uri": "https://localhost:8080/"
        },
        "id": "ExgzcQb7xERc",
        "outputId": "5f94b02a-1bac-4abb-a1c9-97c223edef43"
      },
      "execution_count": null,
      "outputs": [
        {
          "output_type": "stream",
          "name": "stdout",
          "text": [
            "{'phyton': 2.7, 'zope': 2.13, 'plone': 5.7}\n"
          ]
        }
      ]
    },
    {
      "cell_type": "code",
      "source": [
        "import pandas as pd\n",
        "\n",
        "#Crear un diccionario con datos\n",
        "datos = {\n",
        "    \"Nombre\" : [\"Juan\", \"Maria\", \"Pedro\", \"Luisa\"],\n",
        "    \"Edad\" : [25, 29, 32, 45],\n",
        "    \"Ciudad\" : [\"Madrid\", \"Barcelona\", \"Valencia\", \"Sevilla\"]\n",
        "}\n",
        "\n",
        "dataframe = pd.DataFrame(datos)\n",
        "\n",
        "print(dataframe)"
      ],
      "metadata": {
        "id": "xDN9krl4yEDC",
        "colab": {
          "base_uri": "https://localhost:8080/"
        },
        "outputId": "f2d09f49-b00d-44e5-c60a-d068da27bd66"
      },
      "execution_count": null,
      "outputs": [
        {
          "output_type": "stream",
          "name": "stdout",
          "text": [
            "  Nombre  Edad     Ciudad\n",
            "0   Juan    25     Madrid\n",
            "1  Maria    29  Barcelona\n",
            "2  Pedro    32   Valencia\n",
            "3  Luisa    45    Sevilla\n"
          ]
        }
      ]
    },
    {
      "cell_type": "code",
      "source": [
        "#CREAR UNA TUPLA\n",
        "mi_tupla = (1, 2, 3, \"Hola\", True)\n",
        "print(mi_tupla)"
      ],
      "metadata": {
        "colab": {
          "base_uri": "https://localhost:8080/"
        },
        "id": "SPtbflFEy2Vt",
        "outputId": "ccf959c4-9bc0-414c-9e6f-4a69afb2c2c4"
      },
      "execution_count": null,
      "outputs": [
        {
          "output_type": "stream",
          "name": "stdout",
          "text": [
            "(1, 2, 3, 'Hola', True)\n"
          ]
        }
      ]
    },
    {
      "cell_type": "code",
      "source": [
        "#Si se desea borrar el valor de la lista\n",
        "mi_tupla = (1, 2, 3, 3, 5)\n",
        "\n",
        "elemento_a_borrar = 3\n",
        "nueva_tupla = tuple(elemento for elemento in mi_tupla if elemento != elemento_a_borrar)\n",
        "print(nueva_tupla)"
      ],
      "metadata": {
        "id": "7g6c0d1P0G2G",
        "colab": {
          "base_uri": "https://localhost:8080/"
        },
        "outputId": "fec205ea-efb7-4440-947d-a354852ed8dc"
      },
      "execution_count": null,
      "outputs": [
        {
          "output_type": "stream",
          "name": "stdout",
          "text": [
            "(1, 2, 5)\n"
          ]
        }
      ]
    },
    {
      "cell_type": "code",
      "source": [
        "frutas = (\"manzana\", \"fresa\", \"mango\")\n",
        "for fruta in frutas:\n",
        "  print(fruta)"
      ],
      "metadata": {
        "colab": {
          "base_uri": "https://localhost:8080/"
        },
        "id": "sWL7N8zZ0kJN",
        "outputId": "b3873463-cbe5-41d7-ec6e-5b674ada30f1"
      },
      "execution_count": null,
      "outputs": [
        {
          "output_type": "stream",
          "name": "stdout",
          "text": [
            "manzana\n",
            "fresa\n",
            "mango\n"
          ]
        }
      ]
    },
    {
      "cell_type": "code",
      "source": [
        "frutas = (\"manzana\", \"fresa\", \"mango\")\n",
        "if \"manzana\" in frutas:\n",
        "  print(\"SI, la manzana está en la tupla\")"
      ],
      "metadata": {
        "colab": {
          "base_uri": "https://localhost:8080/"
        },
        "id": "PMNZQrO11Awm",
        "outputId": "2175a289-fba7-48eb-d949-49fe82b92eea"
      },
      "execution_count": null,
      "outputs": [
        {
          "output_type": "stream",
          "name": "stdout",
          "text": [
            "SI, la manzana está en la tupla\n"
          ]
        }
      ]
    },
    {
      "cell_type": "code",
      "source": [
        "#FUNCIONES\n",
        "def mi_funcion():\n",
        "  print(\"Hola, te saludo desde la funcion\")"
      ],
      "metadata": {
        "id": "3faMKxi_1nb4"
      },
      "execution_count": null,
      "outputs": []
    },
    {
      "cell_type": "code",
      "source": [
        "mi_funcion()"
      ],
      "metadata": {
        "colab": {
          "base_uri": "https://localhost:8080/"
        },
        "id": "l19N93YK216Y",
        "outputId": "86be1d9d-4090-487a-9917-4e76f5e09ce6"
      },
      "execution_count": null,
      "outputs": [
        {
          "output_type": "stream",
          "name": "stdout",
          "text": [
            "Hola, te saludo desde la funcion\n"
          ]
        }
      ]
    },
    {
      "cell_type": "code",
      "source": [
        "def mi_funcion_nueva(fname):\n",
        "    print(\"Hola \" +fname + \" te saludo desde la funcion\")\n",
        "\n",
        "mi_funcion_nueva(\"Luis\")"
      ],
      "metadata": {
        "colab": {
          "base_uri": "https://localhost:8080/"
        },
        "id": "vLKauB7_29wM",
        "outputId": "446c5791-1b63-49a8-9c01-e5a5859ba349"
      },
      "execution_count": null,
      "outputs": [
        {
          "output_type": "stream",
          "name": "stdout",
          "text": [
            "Hola Luis te saludo desde la funcion\n"
          ]
        }
      ]
    },
    {
      "cell_type": "code",
      "source": [
        "def Nombre(fname,lname):\n",
        "    print(\"Hola \" +fname + \"\" + lname+ \" te saludo desde la función\")\n",
        "\n",
        "Nombre(\"Luis\",\" CC\")"
      ],
      "metadata": {
        "colab": {
          "base_uri": "https://localhost:8080/"
        },
        "id": "fjURplKM3xIi",
        "outputId": "16a02745-8770-4cbf-91a0-65daf37691a3"
      },
      "execution_count": null,
      "outputs": [
        {
          "output_type": "stream",
          "name": "stdout",
          "text": [
            "Hola Luis CC te saludo desde la función\n"
          ]
        }
      ]
    },
    {
      "cell_type": "code",
      "source": [
        "def mi_funcion(*kids):\n",
        "    print(\"El niño menor es\" + kids[2])\n",
        "\n",
        "mi_funcion(\" Emil\", \" Tobias\", \" Linus\")"
      ],
      "metadata": {
        "colab": {
          "base_uri": "https://localhost:8080/"
        },
        "id": "J2UQbNYe4n7S",
        "outputId": "130f6d9a-377d-47e6-f7e0-6ee96e325d2c"
      },
      "execution_count": null,
      "outputs": [
        {
          "output_type": "stream",
          "name": "stdout",
          "text": [
            "El niño menor es Linus\n"
          ]
        }
      ]
    },
    {
      "cell_type": "code",
      "source": [
        "def sum_vec(A,B):\n",
        "  if len(A) == len(B):\n",
        "    n=len(A)\n",
        "    C=n*[0]\n",
        "    print(C)\n",
        "    for i in range(n):\n",
        "      C[i]=A[i]+B[i]\n",
        "    print(\"Los vectores se pueden sumar y el resultado es:\")\n",
        "    print(C)"
      ],
      "metadata": {
        "id": "uMFkThIS6M0R"
      },
      "execution_count": null,
      "outputs": []
    },
    {
      "cell_type": "code",
      "source": [
        "A=[1, 2, 3, 4, 5]\n",
        "B=[6, 7, 8, 9, 10]\n",
        "sum_vec(A,B)"
      ],
      "metadata": {
        "colab": {
          "base_uri": "https://localhost:8080/"
        },
        "id": "xV-beFQwDpUd",
        "outputId": "8967ceac-f499-4cbc-8e4d-d83ce2c0e052"
      },
      "execution_count": null,
      "outputs": [
        {
          "output_type": "stream",
          "name": "stdout",
          "text": [
            "[0, 0, 0, 0, 0]\n",
            "Los vectores se pueden sumar y el resultado es:\n",
            "[7, 9, 11, 13, 15]\n"
          ]
        }
      ]
    },
    {
      "cell_type": "code",
      "source": [
        "#Producto Punto\n",
        "A = [2, 3, 4]\n",
        "B = [5, 6, 7]\n",
        "\n",
        "suma_vectores = [x + y for x, y in zip(A, B)]\n",
        "\n",
        "producto_punto = sum(x * y for x, y in zip(A, B))\n",
        "\n",
        "print(\"Vector suma:\", suma_vectores)\n",
        "print(\"Producto punto:\", producto_punto)\n"
      ],
      "metadata": {
        "id": "t-SjgZc6D_Wa",
        "colab": {
          "base_uri": "https://localhost:8080/"
        },
        "outputId": "6d8b2f57-f762-4385-afb6-c99d03b46f8f"
      },
      "execution_count": null,
      "outputs": [
        {
          "output_type": "stream",
          "name": "stdout",
          "text": [
            "Vector suma: [7, 9, 11]\n",
            "Producto punto: 56\n"
          ]
        }
      ]
    }
  ]
}