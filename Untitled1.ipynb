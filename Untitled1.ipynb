{
  "nbformat": 4,
  "nbformat_minor": 0,
  "metadata": {
    "colab": {
      "provenance": [],
      "authorship_tag": "ABX9TyMXlYh7sMtHVJMNDmPuI08O",
      "include_colab_link": true
    },
    "kernelspec": {
      "name": "python3",
      "display_name": "Python 3"
    },
    "language_info": {
      "name": "python"
    }
  },
  "cells": [
    {
      "cell_type": "markdown",
      "metadata": {
        "id": "view-in-github",
        "colab_type": "text"
      },
      "source": [
        "<a href=\"https://colab.research.google.com/github/Soyluisflores/Clases/blob/main/Untitled1.ipynb\" target=\"_parent\"><img src=\"https://colab.research.google.com/assets/colab-badge.svg\" alt=\"Open In Colab\"/></a>"
      ]
    },
    {
      "cell_type": "markdown",
      "source": [
        "Flores Hernández Luis Alberto\n",
        "Tarea 6"
      ],
      "metadata": {
        "id": "Hk6S2Qggr5z9"
      }
    },
    {
      "cell_type": "markdown",
      "source": [
        "Dado dos vectores, calcular:\n",
        "el Producto de los vectores\n",
        "la potencia de cada vector (n=3)\n",
        "el producto escalar."
      ],
      "metadata": {
        "id": "Q-Ic_5bHr3VA"
      }
    },
    {
      "cell_type": "code",
      "source": [
        "# Definición de los vectores\n",
        "vector1 = [1, 2, 3]\n",
        "vector2 = [4, 5, 6]\n",
        "\n",
        "# Calcular el Producto de los Vectores\n",
        "producto_de_vectores = [vector1[i] * vector2[i] for i in range(3)]\n",
        "\n",
        "# Calcular la Potencia de cada Vector (n = 3)\n",
        "potencia_vector1 = [vector1[i] ** 3 for i in range(3)]\n",
        "potencia_vector2 = [vector2[i] ** 3 for i in range(3)]\n",
        "\n",
        "# Calcular el Producto Escalar\n",
        "producto_escalar = 0\n",
        "for i in range(3):\n",
        "    producto_escalar += vector1[i] * vector2[i]\n",
        "\n",
        "# Imprimir los resultados\n",
        "print(\"Producto de los Vectores:\", producto_de_vectores)\n",
        "print(\"Potencia del Vector 1:\", potencia_vector1)\n",
        "print(\"Potencia del Vector 2:\", potencia_vector2)\n",
        "print(\"Producto Escalar de los Vectores:\", producto_escalar)\n",
        "\n",
        "###FIN DEL PROGRAMA"
      ],
      "metadata": {
        "colab": {
          "base_uri": "https://localhost:8080/"
        },
        "id": "n9IOiQVGsAm7",
        "outputId": "fca95c05-ceed-4bd6-ae21-392eb0929466"
      },
      "execution_count": 2,
      "outputs": [
        {
          "output_type": "stream",
          "name": "stdout",
          "text": [
            "Producto de los Vectores: [4, 10, 18]\n",
            "Potencia del Vector 1: [1, 8, 27]\n",
            "Potencia del Vector 2: [64, 125, 216]\n",
            "Producto Escalar de los Vectores: 32\n"
          ]
        }
      ]
    }
  ]
}